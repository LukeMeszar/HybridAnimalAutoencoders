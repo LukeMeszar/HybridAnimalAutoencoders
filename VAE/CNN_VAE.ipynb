{
 "cells": [
  {
   "cell_type": "code",
   "execution_count": 1,
   "metadata": {},
   "outputs": [],
   "source": [
    "#https://github.com/atinghosh/VAE-pytorch/blob/master/VAE_CNN_BCEloss.py\n",
    "import os\n",
    "import torch\n",
    "import torch.utils.data\n",
    "from torch import nn, optim\n",
    "from torch.autograd import Variable\n",
    "from torch.nn import functional as F\n",
    "from torchvision import datasets, transforms\n",
    "from torchvision.utils import save_image"
   ]
  },
  {
   "cell_type": "code",
   "execution_count": 21,
   "metadata": {},
   "outputs": [],
   "source": [
    "os.environ['CUDA_VISIBLE_DEVICES'] = '0'\n",
    "CUDA = False\n",
    "SEED = 1\n",
    "BATCH_SIZE = 128\n",
    "LOG_INTERVAL = 10\n",
    "EPOCHS = 10\n",
    "no_of_sample = 10\n",
    "\n",
    "\n",
    "ZDIMS = 20\n",
    "\n",
    "torch.manual_seed(SEED)\n",
    "if CUDA:\n",
    "    torch.cuda.manual_seed(SEED)"
   ]
  },
  {
   "cell_type": "code",
   "execution_count": 3,
   "metadata": {},
   "outputs": [],
   "source": [
    "kwargs = {'num_workers': 1, 'pin_memory': True} if CUDA else {}\n",
    "\n",
    "train_loader = torch.utils.data.DataLoader(datasets.MNIST('./mnist', train=True, download=True,transform=transforms.ToTensor()),\n",
    "    batch_size=BATCH_SIZE, shuffle=True, **kwargs)\n",
    "\n",
    "test_loader = torch.utils.data.DataLoader(datasets.MNIST('./mnist', train=False, transform=transforms.ToTensor()),\n",
    "    batch_size=BATCH_SIZE, shuffle=True, **kwargs)"
   ]
  },
  {
   "cell_type": "code",
   "execution_count": 18,
   "metadata": {},
   "outputs": [],
   "source": [
    "class VAE(nn.Module):\n",
    "    def __init__(self):\n",
    "        super(VAE, self).__init__()\n",
    "        self.conv1 = nn.Conv2d(in_channels=1, out_channels=64, kernel_size=(4, 4), padding=(15, 15),\n",
    "                               stride=2)  # This padding keeps the size of the image same, i.e. same padding\n",
    "        self.conv2 = nn.Conv2d(in_channels=64, out_channels=128, kernel_size=(4, 4), padding=(15, 15), stride=2)\n",
    "        self.fc11 = nn.Linear(in_features=128 * 28 * 28, out_features=1024)\n",
    "        self.fc12 = nn.Linear(in_features=1024, out_features=ZDIMS)\n",
    "        self.fc21 = nn.Linear(in_features=128 * 28 * 28, out_features=1024)\n",
    "        self.fc22 = nn.Linear(in_features=1024, out_features=ZDIMS)\n",
    "        self.relu = nn.ReLU()\n",
    "        # For decoder\n",
    "        self.fc1 = nn.Linear(in_features=20, out_features=1024)\n",
    "        self.fc2 = nn.Linear(in_features=1024, out_features=7 * 7 * 128)\n",
    "        self.conv_t1 = nn.ConvTranspose2d(in_channels=128, out_channels=64, kernel_size=4, padding=1, stride=2)\n",
    "        self.conv_t2 = nn.ConvTranspose2d(in_channels=64, out_channels=1, kernel_size=4, padding=1, stride=2)\n",
    "\n",
    "\n",
    "\n",
    "    def encode(self, x: Variable) -> (Variable, Variable):\n",
    "        x = x.view(-1, 1, 28, 28)\n",
    "        x = F.elu(self.conv1(x))\n",
    "        x = F.elu(self.conv2(x))\n",
    "        x = x.view(-1, 128 * 28 * 28)\n",
    "        mu_z = F.elu(self.fc11(x))\n",
    "        mu_z = self.fc12(mu_z)\n",
    "        logvar_z = F.elu(self.fc21(x))\n",
    "        logvar_z = self.fc22(logvar_z)\n",
    "        return mu_z, logvar_z\n",
    "\n",
    "\n",
    "    def reparameterize(self, mu: Variable, logvar: Variable) -> Variable:\n",
    "        if self.training:\n",
    "            sample_z = []\n",
    "            for _ in range(no_of_sample):\n",
    "                std = logvar.mul(0.5).exp_()  # type: Variable\n",
    "                eps = Variable(std.data.new(std.size()).normal_())\n",
    "                sample_z.append(eps.mul(std).add_(mu))\n",
    "            return sample_z\n",
    "        else:\n",
    "            return mu\n",
    "\n",
    "    def decode(self, z: Variable) -> Variable:\n",
    "        x = F.elu(self.fc1(z))\n",
    "        x = F.elu(self.fc2(x))\n",
    "        x = x.view(-1, 128, 7, 7)\n",
    "        x = F.relu(self.conv_t1(x))\n",
    "        x = F.sigmoid(self.conv_t2(x))\n",
    "        return x.view(-1, 784)\n",
    "\n",
    "    def forward(self, x: Variable) -> (Variable, Variable, Variable):\n",
    "        mu, logvar = self.encode(x.view(-1, 784))\n",
    "        z = self.reparameterize(mu, logvar)\n",
    "        if self.training:\n",
    "            return [self.decode(z) for z in z], mu, logvar\n",
    "        else:\n",
    "            return self.decode(z), mu, logvar\n",
    "        \n",
    "    def loss_function(self, recon_x, x, mu, logvar) -> Variable:\n",
    "        if self.training:\n",
    "            BCE = 0\n",
    "            for recon_x_one in recon_x:\n",
    "                BCE += F.binary_cross_entropy(recon_x_one, x.view(-1, 784))\n",
    "            BCE /= len(recon_x)\n",
    "        else:\n",
    "            BCE = F.binary_cross_entropy(recon_x, x.view(-1, 784))\n",
    "        KLD = -0.5 * torch.sum(1 + logvar - mu.pow(2) - logvar.exp())\n",
    "        KLD /= BATCH_SIZE * 784\n",
    "        return BCE + KLD"
   ]
  },
  {
   "cell_type": "code",
   "execution_count": 22,
   "metadata": {},
   "outputs": [],
   "source": [
    "model = VAE()\n",
    "if CUDA:\n",
    "    model.cuda()\n",
    "optimizer = optim.Adam(model.parameters(), lr=1e-3)"
   ]
  },
  {
   "cell_type": "code",
   "execution_count": 32,
   "metadata": {},
   "outputs": [],
   "source": [
    "def train(epoch):\n",
    "    model.train()\n",
    "    train_loss = 0\n",
    "    for batch_idx, (data, _) in enumerate(train_loader):\n",
    "        data = Variable(data)\n",
    "        if CUDA:\n",
    "            data = data.cuda()\n",
    "        optimizer.zero_grad()\n",
    "        recon_batch, mu, logvar = model(data)\n",
    "        loss = model.loss_function(recon_batch, data, mu, logvar)\n",
    "        loss.backward()\n",
    "        train_loss += loss.item()\n",
    "        optimizer.step()\n",
    "        if batch_idx % LOG_INTERVAL == 0:\n",
    "            print('Train Epoch: {} [{}/{} ({:.0f}%)]\\tLoss: {:.6f}'.format(epoch, batch_idx * len(data), len(train_loader.dataset),\n",
    "                       100. * batch_idx / len(train_loader),\n",
    "                       loss.item() / len(data)))\n",
    "\n",
    "    print('====> Epoch: {} Average loss: {:.4f}'.format(epoch, train_loss / len(train_loader.dataset)))"
   ]
  },
  {
   "cell_type": "code",
   "execution_count": 33,
   "metadata": {},
   "outputs": [],
   "source": [
    "def test(epoch):\n",
    "    model.eval()\n",
    "    test_loss = 0\n",
    "\n",
    "    # each data is of BATCH_SIZE (default 128) samples\n",
    "    for i, (data, _) in enumerate(test_loader):\n",
    "        if CUDA:\n",
    "            # make sure this lives on the GPU\n",
    "            data = data.cuda()\n",
    "\n",
    "        # we're only going to infer, so no autograd at all required: volatile=True\n",
    "        data = Variable(data, volatile=True)\n",
    "        recon_batch, mu, logvar = model(data)\n",
    "        test_loss += model.loss_function(recon_batch, data, mu, logvar).item()\n",
    "        if i == 0:\n",
    "            n = min(data.size(0), 8)\n",
    "            # for the first 128 batch of the epoch, show the first 8 input digits\n",
    "            # with right below them the reconstructed output digits\n",
    "            comparison = torch.cat([data[:n],\n",
    "                                    recon_batch.view(BATCH_SIZE, 1, 28, 28)[:n]])\n",
    "            save_image(comparison.data.cpu(),\n",
    "                       './mnist/reconstruction_' + str(epoch) + '.png', nrow=n)\n",
    "\n",
    "    test_loss /= len(test_loader.dataset)\n",
    "    print('====> Test set loss: {:.4f}'.format(test_loss))"
   ]
  },
  {
   "cell_type": "code",
   "execution_count": 34,
   "metadata": {},
   "outputs": [
    {
     "name": "stdout",
     "output_type": "stream",
     "text": [
      "1\n"
     ]
    },
    {
     "name": "stderr",
     "output_type": "stream",
     "text": [
      "C:\\Users\\luke\\Anaconda3\\lib\\site-packages\\torch\\nn\\functional.py:1332: UserWarning: nn.functional.sigmoid is deprecated. Use torch.sigmoid instead.\n",
      "  warnings.warn(\"nn.functional.sigmoid is deprecated. Use torch.sigmoid instead.\")\n"
     ]
    },
    {
     "name": "stdout",
     "output_type": "stream",
     "text": [
      "Train Epoch: 1 [0/60000 (0%)]\tLoss: 0.007795\n",
      "Train Epoch: 1 [1280/60000 (2%)]\tLoss: 0.002381\n",
      "Train Epoch: 1 [2560/60000 (4%)]\tLoss: 0.002129\n",
      "Train Epoch: 1 [3840/60000 (6%)]\tLoss: 0.002073\n",
      "Train Epoch: 1 [5120/60000 (9%)]\tLoss: 0.002026\n",
      "Train Epoch: 1 [6400/60000 (11%)]\tLoss: 0.001961\n",
      "Train Epoch: 1 [7680/60000 (13%)]\tLoss: 0.001746\n",
      "Train Epoch: 1 [8960/60000 (15%)]\tLoss: 0.001662\n",
      "Train Epoch: 1 [10240/60000 (17%)]\tLoss: 0.001654\n",
      "Train Epoch: 1 [11520/60000 (19%)]\tLoss: 0.001516\n",
      "Train Epoch: 1 [12800/60000 (21%)]\tLoss: 0.001508\n",
      "Train Epoch: 1 [14080/60000 (23%)]\tLoss: 0.001538\n",
      "Train Epoch: 1 [15360/60000 (26%)]\tLoss: 0.001414\n",
      "Train Epoch: 1 [16640/60000 (28%)]\tLoss: 0.001345\n",
      "Train Epoch: 1 [17920/60000 (30%)]\tLoss: 0.001339\n",
      "Train Epoch: 1 [19200/60000 (32%)]\tLoss: 0.001344\n",
      "Train Epoch: 1 [20480/60000 (34%)]\tLoss: 0.001299\n",
      "Train Epoch: 1 [21760/60000 (36%)]\tLoss: 0.001343\n",
      "Train Epoch: 1 [23040/60000 (38%)]\tLoss: 0.001282\n",
      "Train Epoch: 1 [24320/60000 (41%)]\tLoss: 0.001235\n",
      "Train Epoch: 1 [25600/60000 (43%)]\tLoss: 0.001195\n",
      "Train Epoch: 1 [26880/60000 (45%)]\tLoss: 0.001210\n",
      "Train Epoch: 1 [28160/60000 (47%)]\tLoss: 0.001219\n",
      "Train Epoch: 1 [29440/60000 (49%)]\tLoss: 0.001233\n",
      "Train Epoch: 1 [30720/60000 (51%)]\tLoss: 0.001191\n",
      "Train Epoch: 1 [32000/60000 (53%)]\tLoss: 0.001181\n",
      "Train Epoch: 1 [33280/60000 (55%)]\tLoss: 0.001156\n",
      "Train Epoch: 1 [34560/60000 (58%)]\tLoss: 0.001081\n",
      "Train Epoch: 1 [35840/60000 (60%)]\tLoss: 0.001183\n",
      "Train Epoch: 1 [37120/60000 (62%)]\tLoss: 0.001123\n",
      "Train Epoch: 1 [38400/60000 (64%)]\tLoss: 0.001166\n",
      "Train Epoch: 1 [39680/60000 (66%)]\tLoss: 0.001150\n",
      "Train Epoch: 1 [40960/60000 (68%)]\tLoss: 0.001113\n",
      "Train Epoch: 1 [42240/60000 (70%)]\tLoss: 0.001096\n",
      "Train Epoch: 1 [43520/60000 (72%)]\tLoss: 0.001107\n",
      "Train Epoch: 1 [44800/60000 (75%)]\tLoss: 0.001135\n",
      "Train Epoch: 1 [46080/60000 (77%)]\tLoss: 0.001144\n",
      "Train Epoch: 1 [47360/60000 (79%)]\tLoss: 0.001125\n",
      "Train Epoch: 1 [48640/60000 (81%)]\tLoss: 0.001147\n",
      "Train Epoch: 1 [49920/60000 (83%)]\tLoss: 0.001101\n",
      "Train Epoch: 1 [51200/60000 (85%)]\tLoss: 0.001125\n",
      "Train Epoch: 1 [52480/60000 (87%)]\tLoss: 0.001112\n",
      "Train Epoch: 1 [53760/60000 (90%)]\tLoss: 0.001147\n",
      "Train Epoch: 1 [55040/60000 (92%)]\tLoss: 0.001108\n",
      "Train Epoch: 1 [56320/60000 (94%)]\tLoss: 0.001069\n",
      "Train Epoch: 1 [57600/60000 (96%)]\tLoss: 0.001063\n",
      "Train Epoch: 1 [58880/60000 (98%)]\tLoss: 0.001089\n",
      "====> Epoch: 1 Average loss: 0.0014\n"
     ]
    },
    {
     "name": "stderr",
     "output_type": "stream",
     "text": [
      "C:\\Users\\luke\\Anaconda3\\lib\\site-packages\\ipykernel_launcher.py:12: UserWarning: volatile was removed and now has no effect. Use `with torch.no_grad():` instead.\n",
      "  if sys.path[0] == '':\n"
     ]
    },
    {
     "ename": "IndexError",
     "evalue": "invalid index of a 0-dim tensor. Use tensor.item() to convert a 0-dim tensor to a Python number",
     "output_type": "error",
     "traceback": [
      "\u001b[1;31m---------------------------------------------------------------------------\u001b[0m",
      "\u001b[1;31mIndexError\u001b[0m                                Traceback (most recent call last)",
      "\u001b[1;32m<ipython-input-34-76f96426fc92>\u001b[0m in \u001b[0;36m<module>\u001b[1;34m()\u001b[0m\n\u001b[0;32m      2\u001b[0m     \u001b[0mprint\u001b[0m\u001b[1;33m(\u001b[0m\u001b[0mepoch\u001b[0m\u001b[1;33m)\u001b[0m\u001b[1;33m\u001b[0m\u001b[0m\n\u001b[0;32m      3\u001b[0m     \u001b[0mtrain\u001b[0m\u001b[1;33m(\u001b[0m\u001b[0mepoch\u001b[0m\u001b[1;33m)\u001b[0m\u001b[1;33m\u001b[0m\u001b[0m\n\u001b[1;32m----> 4\u001b[1;33m     \u001b[0mtest\u001b[0m\u001b[1;33m(\u001b[0m\u001b[0mepoch\u001b[0m\u001b[1;33m)\u001b[0m\u001b[1;33m\u001b[0m\u001b[0m\n\u001b[0m\u001b[0;32m      5\u001b[0m \u001b[1;33m\u001b[0m\u001b[0m\n\u001b[0;32m      6\u001b[0m     \u001b[1;31m# 64 sets of random ZDIMS-float vectors, i.e. 64 locations / MNIST\u001b[0m\u001b[1;33m\u001b[0m\u001b[1;33m\u001b[0m\u001b[0m\n",
      "\u001b[1;32m<ipython-input-33-37286a24dfe2>\u001b[0m in \u001b[0;36mtest\u001b[1;34m(epoch)\u001b[0m\n\u001b[0;32m     12\u001b[0m         \u001b[0mdata\u001b[0m \u001b[1;33m=\u001b[0m \u001b[0mVariable\u001b[0m\u001b[1;33m(\u001b[0m\u001b[0mdata\u001b[0m\u001b[1;33m,\u001b[0m \u001b[0mvolatile\u001b[0m\u001b[1;33m=\u001b[0m\u001b[1;32mTrue\u001b[0m\u001b[1;33m)\u001b[0m\u001b[1;33m\u001b[0m\u001b[0m\n\u001b[0;32m     13\u001b[0m         \u001b[0mrecon_batch\u001b[0m\u001b[1;33m,\u001b[0m \u001b[0mmu\u001b[0m\u001b[1;33m,\u001b[0m \u001b[0mlogvar\u001b[0m \u001b[1;33m=\u001b[0m \u001b[0mmodel\u001b[0m\u001b[1;33m(\u001b[0m\u001b[0mdata\u001b[0m\u001b[1;33m)\u001b[0m\u001b[1;33m\u001b[0m\u001b[0m\n\u001b[1;32m---> 14\u001b[1;33m         \u001b[0mtest_loss\u001b[0m \u001b[1;33m+=\u001b[0m \u001b[0mmodel\u001b[0m\u001b[1;33m.\u001b[0m\u001b[0mloss_function\u001b[0m\u001b[1;33m(\u001b[0m\u001b[0mrecon_batch\u001b[0m\u001b[1;33m,\u001b[0m \u001b[0mdata\u001b[0m\u001b[1;33m,\u001b[0m \u001b[0mmu\u001b[0m\u001b[1;33m,\u001b[0m \u001b[0mlogvar\u001b[0m\u001b[1;33m)\u001b[0m\u001b[1;33m.\u001b[0m\u001b[0mdata\u001b[0m\u001b[1;33m[\u001b[0m\u001b[1;36m0\u001b[0m\u001b[1;33m]\u001b[0m\u001b[1;33m\u001b[0m\u001b[0m\n\u001b[0m\u001b[0;32m     15\u001b[0m         \u001b[1;32mif\u001b[0m \u001b[0mi\u001b[0m \u001b[1;33m==\u001b[0m \u001b[1;36m0\u001b[0m\u001b[1;33m:\u001b[0m\u001b[1;33m\u001b[0m\u001b[0m\n\u001b[0;32m     16\u001b[0m             \u001b[0mn\u001b[0m \u001b[1;33m=\u001b[0m \u001b[0mmin\u001b[0m\u001b[1;33m(\u001b[0m\u001b[0mdata\u001b[0m\u001b[1;33m.\u001b[0m\u001b[0msize\u001b[0m\u001b[1;33m(\u001b[0m\u001b[1;36m0\u001b[0m\u001b[1;33m)\u001b[0m\u001b[1;33m,\u001b[0m \u001b[1;36m8\u001b[0m\u001b[1;33m)\u001b[0m\u001b[1;33m\u001b[0m\u001b[0m\n",
      "\u001b[1;31mIndexError\u001b[0m: invalid index of a 0-dim tensor. Use tensor.item() to convert a 0-dim tensor to a Python number"
     ]
    }
   ],
   "source": [
    "for epoch in range(1, EPOCHS + 1):\n",
    "    print(epoch)\n",
    "    train(epoch)\n",
    "    test(epoch)\n",
    "\n",
    "    # 64 sets of random ZDIMS-float vectors, i.e. 64 locations / MNIST\n",
    "    # digits in latent space\n",
    "    sample = Variable(torch.randn(64, ZDIMS))\n",
    "    if CUDA:\n",
    "        sample = sample.cuda()\n",
    "    sample = model.decode(sample).cpu()\n",
    "\n",
    "    # save out as an 8x8 matrix of MNIST digits\n",
    "    # this will give you a visual idea of how well latent space can generate things\n",
    "    # that look like digits\n",
    "    save_image(sample.data.view(64, 1, 28, 28),'./mnist/reconstruction' + str(epoch) + '.png')"
   ]
  },
  {
   "cell_type": "code",
   "execution_count": null,
   "metadata": {},
   "outputs": [],
   "source": []
  },
  {
   "cell_type": "code",
   "execution_count": null,
   "metadata": {},
   "outputs": [],
   "source": []
  }
 ],
 "metadata": {
  "kernelspec": {
   "display_name": "Python 3",
   "language": "python",
   "name": "python3"
  },
  "language_info": {
   "codemirror_mode": {
    "name": "ipython",
    "version": 3
   },
   "file_extension": ".py",
   "mimetype": "text/x-python",
   "name": "python",
   "nbconvert_exporter": "python",
   "pygments_lexer": "ipython3",
   "version": "3.5.4"
  }
 },
 "nbformat": 4,
 "nbformat_minor": 2
}
